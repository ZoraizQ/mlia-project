{
 "cells": [
  {
   "cell_type": "code",
   "execution_count": 1,
   "metadata": {},
   "outputs": [
    {
     "name": "stdout",
     "output_type": "stream",
     "text": [
      "/sfs/qumulo/qhome/zce5py/Desktop/nnUNet\n"
     ]
    }
   ],
   "source": [
    "!pwd"
   ]
  },
  {
   "cell_type": "code",
   "execution_count": 2,
   "metadata": {},
   "outputs": [
    {
     "name": "stdout",
     "output_type": "stream",
     "text": [
      "Defaulting to user installation because normal site-packages is not writeable\n",
      "Obtaining file:///sfs/qumulo/qhome/zce5py/Desktop/nnUNet\n",
      "Collecting torch>1.10.0\n",
      "  Downloading torch-1.13.0-cp38-cp38-manylinux1_x86_64.whl (890.2 MB)\n",
      "\u001b[K     |████████████████████████████████| 890.2 MB 4.3 kB/s  eta 0:00:011\n",
      "\u001b[?25hRequirement already satisfied: tqdm in /sfs/qumulo/qhome/zce5py/.local/lib/python3.8/site-packages (from nnunet==1.7.0) (4.59.0)\n",
      "Collecting dicom2nifti\n",
      "  Downloading dicom2nifti-2.4.5-py3-none-any.whl (43 kB)\n",
      "\u001b[K     |████████████████████████████████| 43 kB 504 kB/s  eta 0:00:01\n",
      "\u001b[?25hRequirement already satisfied: scikit-image>=0.14 in /sfs/applications/202206/software/standard/compiler/gcc/9.2.0/jupyter_conda/2020.11-py3.8/lib/python3.8/site-packages (from nnunet==1.7.0) (0.17.2)\n",
      "Collecting medpy\n",
      "  Downloading MedPy-0.4.0.tar.gz (151 kB)\n",
      "\u001b[K     |████████████████████████████████| 151 kB 88.5 MB/s eta 0:00:01\n",
      "\u001b[?25hRequirement already satisfied: scipy in /sfs/applications/202206/software/standard/compiler/gcc/9.2.0/jupyter_conda/2020.11-py3.8/lib/python3.8/site-packages (from nnunet==1.7.0) (1.5.2)\n",
      "Collecting batchgenerators>=0.23\n",
      "  Downloading batchgenerators-0.24.tar.gz (61 kB)\n",
      "\u001b[K     |████████████████████████████████| 61 kB 84 kB/s s eta 0:00:01\n",
      "\u001b[?25hRequirement already satisfied: numpy in /sfs/applications/202206/software/standard/compiler/gcc/9.2.0/jupyter_conda/2020.11-py3.8/lib/python3.8/site-packages (from nnunet==1.7.0) (1.19.2)\n",
      "Collecting sklearn\n",
      "  Downloading sklearn-0.0.post1.tar.gz (3.6 kB)\n",
      "Collecting SimpleITK\n",
      "  Downloading SimpleITK-2.2.0-cp38-cp38-manylinux_2_17_x86_64.manylinux2014_x86_64.whl (52.8 MB)\n",
      "\u001b[K     |████████████████████████████████| 52.8 MB 90.0 MB/s eta 0:00:01\n",
      "\u001b[?25hRequirement already satisfied: pandas in /sfs/applications/202206/software/standard/compiler/gcc/9.2.0/jupyter_conda/2020.11-py3.8/lib/python3.8/site-packages (from nnunet==1.7.0) (1.1.3)\n",
      "Requirement already satisfied: requests in /sfs/applications/202206/software/standard/compiler/gcc/9.2.0/jupyter_conda/2020.11-py3.8/lib/python3.8/site-packages (from nnunet==1.7.0) (2.24.0)\n",
      "Requirement already satisfied: nibabel in /sfs/qumulo/qhome/zce5py/.local/lib/python3.8/site-packages (from nnunet==1.7.0) (3.1.1)\n",
      "Requirement already satisfied: tifffile in /sfs/applications/202206/software/standard/compiler/gcc/9.2.0/jupyter_conda/2020.11-py3.8/lib/python3.8/site-packages (from nnunet==1.7.0) (2020.10.1)\n",
      "Requirement already satisfied: matplotlib in /sfs/applications/202206/software/standard/compiler/gcc/9.2.0/jupyter_conda/2020.11-py3.8/lib/python3.8/site-packages (from nnunet==1.7.0) (3.3.2)\n",
      "Collecting nvidia-cuda-runtime-cu11==11.7.99\n",
      "  Downloading nvidia_cuda_runtime_cu11-11.7.99-py3-none-manylinux1_x86_64.whl (849 kB)\n",
      "\u001b[K     |████████████████████████████████| 849 kB 89.3 MB/s eta 0:00:01\n",
      "\u001b[?25hCollecting nvidia-cuda-nvrtc-cu11==11.7.99\n",
      "  Downloading nvidia_cuda_nvrtc_cu11-11.7.99-2-py3-none-manylinux1_x86_64.whl (21.0 MB)\n",
      "\u001b[K     |████████████████████████████████| 21.0 MB 92.0 MB/s eta 0:00:01\n",
      "\u001b[?25hRequirement already satisfied: typing-extensions in /sfs/applications/202206/software/standard/compiler/gcc/9.2.0/jupyter_conda/2020.11-py3.8/lib/python3.8/site-packages (from torch>1.10.0->nnunet==1.7.0) (3.7.4.3)\n",
      "Collecting nvidia-cublas-cu11==11.10.3.66\n",
      "  Downloading nvidia_cublas_cu11-11.10.3.66-py3-none-manylinux1_x86_64.whl (317.1 MB)\n",
      "\u001b[K     |████████████████████████████████| 317.1 MB 115.2 MB/s eta 0:00:01     |████████████████████████████████| 317.1 MB 32 kB/s \n",
      "\u001b[?25hCollecting nvidia-cudnn-cu11==8.5.0.96\n",
      "  Downloading nvidia_cudnn_cu11-8.5.0.96-2-py3-none-manylinux1_x86_64.whl (557.1 MB)\n",
      "\u001b[K     |████████████████████████████████| 557.1 MB 14 kB/s s eta 0:00:011\n",
      "\u001b[?25hCollecting python-gdcm\n",
      "  Downloading python_gdcm-3.0.20-cp38-cp38-manylinux_2_17_x86_64.manylinux2014_x86_64.whl (13.0 MB)\n",
      "\u001b[K     |████████████████████████████████| 13.0 MB 53.7 MB/s eta 0:00:01\n",
      "\u001b[?25hCollecting pydicom>=2.2.0\n",
      "  Downloading pydicom-2.3.1-py3-none-any.whl (2.0 MB)\n",
      "\u001b[K     |████████████████████████████████| 2.0 MB 83.0 MB/s eta 0:00:01\n",
      "\u001b[?25hRequirement already satisfied: networkx>=2.0 in /sfs/applications/202206/software/standard/compiler/gcc/9.2.0/jupyter_conda/2020.11-py3.8/lib/python3.8/site-packages (from scikit-image>=0.14->nnunet==1.7.0) (2.5)\n",
      "Requirement already satisfied: pillow!=7.1.0,!=7.1.1,>=4.3.0 in /sfs/applications/202206/software/standard/compiler/gcc/9.2.0/jupyter_conda/2020.11-py3.8/lib/python3.8/site-packages (from scikit-image>=0.14->nnunet==1.7.0) (8.0.1)\n",
      "Requirement already satisfied: imageio>=2.3.0 in /sfs/applications/202206/software/standard/compiler/gcc/9.2.0/jupyter_conda/2020.11-py3.8/lib/python3.8/site-packages (from scikit-image>=0.14->nnunet==1.7.0) (2.9.0)\n",
      "Requirement already satisfied: PyWavelets>=1.1.1 in /sfs/applications/202206/software/standard/compiler/gcc/9.2.0/jupyter_conda/2020.11-py3.8/lib/python3.8/site-packages (from scikit-image>=0.14->nnunet==1.7.0) (1.1.1)\n",
      "Requirement already satisfied: scikit-learn in /sfs/applications/202206/software/standard/compiler/gcc/9.2.0/jupyter_conda/2020.11-py3.8/lib/python3.8/site-packages (from batchgenerators>=0.23->nnunet==1.7.0) (0.23.2)\n",
      "Requirement already satisfied: future in /sfs/applications/202206/software/standard/compiler/gcc/9.2.0/jupyter_conda/2020.11-py3.8/lib/python3.8/site-packages (from batchgenerators>=0.23->nnunet==1.7.0) (0.18.2)\n",
      "Collecting unittest2\n",
      "  Downloading unittest2-1.1.0-py2.py3-none-any.whl (96 kB)\n",
      "\u001b[K     |████████████████████████████████| 96 kB 1.7 MB/s  eta 0:00:01\n",
      "\u001b[?25hRequirement already satisfied: threadpoolctl in /sfs/applications/202206/software/standard/compiler/gcc/9.2.0/jupyter_conda/2020.11-py3.8/lib/python3.8/site-packages (from batchgenerators>=0.23->nnunet==1.7.0) (2.1.0)\n",
      "Requirement already satisfied: pytz>=2017.2 in /sfs/applications/202206/software/standard/compiler/gcc/9.2.0/jupyter_conda/2020.11-py3.8/lib/python3.8/site-packages (from pandas->nnunet==1.7.0) (2020.1)\n",
      "Requirement already satisfied: python-dateutil>=2.7.3 in /sfs/applications/202206/software/standard/compiler/gcc/9.2.0/jupyter_conda/2020.11-py3.8/lib/python3.8/site-packages (from pandas->nnunet==1.7.0) (2.8.1)\n",
      "Requirement already satisfied: certifi>=2017.4.17 in /sfs/applications/202206/software/standard/compiler/gcc/9.2.0/jupyter_conda/2020.11-py3.8/lib/python3.8/site-packages (from requests->nnunet==1.7.0) (2021.10.8)\n",
      "Requirement already satisfied: idna<3,>=2.5 in /sfs/applications/202206/software/standard/compiler/gcc/9.2.0/jupyter_conda/2020.11-py3.8/lib/python3.8/site-packages (from requests->nnunet==1.7.0) (2.10)\n",
      "Requirement already satisfied: chardet<4,>=3.0.2 in /sfs/applications/202206/software/standard/compiler/gcc/9.2.0/jupyter_conda/2020.11-py3.8/lib/python3.8/site-packages (from requests->nnunet==1.7.0) (3.0.4)\n",
      "Requirement already satisfied: urllib3!=1.25.0,!=1.25.1,<1.26,>=1.21.1 in /sfs/applications/202206/software/standard/compiler/gcc/9.2.0/jupyter_conda/2020.11-py3.8/lib/python3.8/site-packages (from requests->nnunet==1.7.0) (1.25.11)\n",
      "Requirement already satisfied: packaging>=14.3 in /sfs/applications/202206/software/standard/compiler/gcc/9.2.0/jupyter_conda/2020.11-py3.8/lib/python3.8/site-packages (from nibabel->nnunet==1.7.0) (20.4)\n",
      "Requirement already satisfied: cycler>=0.10 in /sfs/applications/202206/software/standard/compiler/gcc/9.2.0/jupyter_conda/2020.11-py3.8/lib/python3.8/site-packages (from matplotlib->nnunet==1.7.0) (0.10.0)\n",
      "Requirement already satisfied: pyparsing!=2.0.4,!=2.1.2,!=2.1.6,>=2.0.3 in /sfs/applications/202206/software/standard/compiler/gcc/9.2.0/jupyter_conda/2020.11-py3.8/lib/python3.8/site-packages (from matplotlib->nnunet==1.7.0) (2.4.7)\n",
      "Requirement already satisfied: kiwisolver>=1.0.1 in /sfs/applications/202206/software/standard/compiler/gcc/9.2.0/jupyter_conda/2020.11-py3.8/lib/python3.8/site-packages (from matplotlib->nnunet==1.7.0) (1.3.0)\n",
      "Requirement already satisfied: wheel in /sfs/applications/202206/software/standard/compiler/gcc/9.2.0/jupyter_conda/2020.11-py3.8/lib/python3.8/site-packages (from nvidia-cuda-runtime-cu11==11.7.99->torch>1.10.0->nnunet==1.7.0) (0.35.1)\n",
      "Requirement already satisfied: setuptools in /sfs/applications/202206/software/standard/compiler/gcc/9.2.0/jupyter_conda/2020.11-py3.8/lib/python3.8/site-packages (from nvidia-cuda-runtime-cu11==11.7.99->torch>1.10.0->nnunet==1.7.0) (50.3.1.post20201107)\n",
      "Requirement already satisfied: decorator>=4.3.0 in /sfs/applications/202206/software/standard/compiler/gcc/9.2.0/jupyter_conda/2020.11-py3.8/lib/python3.8/site-packages (from networkx>=2.0->scikit-image>=0.14->nnunet==1.7.0) (4.4.2)\n",
      "Requirement already satisfied: joblib>=0.11 in /sfs/applications/202206/software/standard/compiler/gcc/9.2.0/jupyter_conda/2020.11-py3.8/lib/python3.8/site-packages (from scikit-learn->batchgenerators>=0.23->nnunet==1.7.0) (0.17.0)\n",
      "Collecting argparse\n",
      "  Downloading argparse-1.4.0-py2.py3-none-any.whl (23 kB)\n",
      "Collecting traceback2\n",
      "  Downloading traceback2-1.4.0-py2.py3-none-any.whl (16 kB)\n",
      "Requirement already satisfied: six>=1.4 in /sfs/applications/202206/software/standard/compiler/gcc/9.2.0/jupyter_conda/2020.11-py3.8/lib/python3.8/site-packages (from unittest2->batchgenerators>=0.23->nnunet==1.7.0) (1.15.0)\n",
      "Collecting linecache2\n",
      "  Downloading linecache2-1.0.0-py2.py3-none-any.whl (12 kB)\n",
      "Building wheels for collected packages: medpy, batchgenerators, sklearn\n",
      "  Building wheel for medpy (setup.py) ... \u001b[?25ldone\n",
      "\u001b[?25h  Created wheel for medpy: filename=MedPy-0.4.0-py3-none-any.whl size=214958 sha256=602a41c531818c459d41298b8a1d54a0a3690db4304c2fc3ca2eaf4b6a9d4ebf\n",
      "  Stored in directory: /sfs/qumulo/qhome/zce5py/.cache/pip/wheels/fc/38/7d/e0b8bcb2770f779a93cab5ab7fa6dd344011e1278cb90cab86\n",
      "  Building wheel for batchgenerators (setup.py) ... \u001b[?25ldone\n",
      "\u001b[?25h  Created wheel for batchgenerators: filename=batchgenerators-0.24-py3-none-any.whl size=89197 sha256=254719f7faf243761e5ff0a90ff8672bbf051532f5cba8a117fdc18198f68b91\n",
      "  Stored in directory: /sfs/qumulo/qhome/zce5py/.cache/pip/wheels/ab/8e/1e/0cf24514ee9f8da66b92892fdc551bf6244eadbb6f25e47018\n",
      "  Building wheel for sklearn (setup.py) ... \u001b[?25ldone\n",
      "\u001b[?25h  Created wheel for sklearn: filename=sklearn-0.0.post1-py3-none-any.whl size=2342 sha256=5396a4ddc7f7f8508f474168b31dbea986734d3dcea0b42aaa1546db75af59ab\n",
      "  Stored in directory: /sfs/qumulo/qhome/zce5py/.cache/pip/wheels/14/25/f7/1cc0956978ae479e75140219088deb7a36f60459df242b1a72\n",
      "Successfully built medpy batchgenerators sklearn\n",
      "Installing collected packages: nvidia-cuda-runtime-cu11, nvidia-cuda-nvrtc-cu11, nvidia-cublas-cu11, nvidia-cudnn-cu11, torch, python-gdcm, pydicom, dicom2nifti, SimpleITK, medpy, argparse, linecache2, traceback2, unittest2, batchgenerators, sklearn, nnunet\n",
      "  Attempting uninstall: torch\n",
      "    Found existing installation: torch 1.9.1\n",
      "    Uninstalling torch-1.9.1:\n",
      "      Successfully uninstalled torch-1.9.1\n",
      "\u001b[33m  WARNING: The scripts convert-caffe2-to-onnx, convert-onnx-to-caffe2 and torchrun are installed in '/home/zce5py/.local/bin' which is not on PATH.\n",
      "  Consider adding this directory to PATH or, if you prefer to suppress this warning, use --no-warn-script-location.\u001b[0m\n",
      "\u001b[33m  WARNING: The script pydicom is installed in '/home/zce5py/.local/bin' which is not on PATH.\n",
      "  Consider adding this directory to PATH or, if you prefer to suppress this warning, use --no-warn-script-location.\u001b[0m\n",
      "\u001b[33m  WARNING: The script unit2 is installed in '/home/zce5py/.local/bin' which is not on PATH.\n",
      "  Consider adding this directory to PATH or, if you prefer to suppress this warning, use --no-warn-script-location.\u001b[0m\n",
      "  Running setup.py develop for nnunet\n",
      "Successfully installed SimpleITK-2.2.0 argparse-1.4.0 batchgenerators-0.24 dicom2nifti-2.4.5 linecache2-1.0.0 medpy-0.4.0 nnunet nvidia-cublas-cu11-11.10.3.66 nvidia-cuda-nvrtc-cu11-11.7.99 nvidia-cuda-runtime-cu11-11.7.99 nvidia-cudnn-cu11-8.5.0.96 pydicom-2.3.1 python-gdcm-3.0.20 sklearn-0.0.post1 torch-1.13.0 traceback2-1.4.0 unittest2-1.1.0\n"
     ]
    }
   ],
   "source": [
    "!pip install -e ."
   ]
  },
  {
   "cell_type": "code",
   "execution_count": 3,
   "metadata": {},
   "outputs": [
    {
     "name": "stdout",
     "output_type": "stream",
     "text": [
      "Defaulting to user installation because normal site-packages is not writeable\n",
      "Collecting hiddenlayer\n",
      "  Cloning https://github.com/FabianIsensee/hiddenlayer.git (to revision more_plotted_details) to /tmp/pip-install-q1zw1v7e/hiddenlayer\n",
      "Building wheels for collected packages: hiddenlayer\n",
      "  Building wheel for hiddenlayer (setup.py) ... \u001b[?25ldone\n",
      "\u001b[?25h  Created wheel for hiddenlayer: filename=hiddenlayer-0.2-py3-none-any.whl size=19811 sha256=d62d73a32a5642742e6b63a547238e188fba69ec796f6e83f0eaf481bb430879\n",
      "  Stored in directory: /tmp/pip-ephem-wheel-cache-nq25glw4/wheels/ba/64/4b/a960398ddff6d8fdbd45a3daa618eacc7806502eae6b32407f\n",
      "Successfully built hiddenlayer\n",
      "Installing collected packages: hiddenlayer\n",
      "Successfully installed hiddenlayer-0.2\n"
     ]
    }
   ],
   "source": [
    "!pip install --upgrade git+https://github.com/FabianIsensee/hiddenlayer.git@more_plotted_details#egg=hiddenlayer"
   ]
  },
  {
   "cell_type": "code",
   "execution_count": 4,
   "metadata": {},
   "outputs": [],
   "source": [
    "!mkdir -p nnUNet_raw_data_base/nnUNet_raw_data\n",
    "!mkdir nnUNet_preprocessed\n",
    "!mkdir nnUNet_trained_models"
   ]
  },
  {
   "cell_type": "code",
   "execution_count": 25,
   "metadata": {},
   "outputs": [
    {
     "name": "stdout",
     "output_type": "stream",
     "text": [
      "\n"
     ]
    }
   ],
   "source": [
    "!export nnUNet_raw_data_base=\"$(pwd)/nnUNet_raw_data_base\"\n",
    "!export nnUNet_preprocessed=\"$(pwd)/nnUNet_preprocessed\"\n",
    "!export RESULTS_FOLDER=\"$(pwd)/nnUNet_trained_models\""
   ]
  },
  {
   "cell_type": "code",
   "execution_count": 24,
   "metadata": {},
   "outputs": [
    {
     "name": "stdout",
     "output_type": "stream",
     "text": [
      "\n"
     ]
    }
   ],
   "source": [
    "echo $RESULTS_FOLDER"
   ]
  }
 ],
 "metadata": {
  "kernelspec": {
   "display_name": "Python 3",
   "language": "python",
   "name": "python3"
  },
  "language_info": {
   "codemirror_mode": {
    "name": "ipython",
    "version": 3
   },
   "file_extension": ".py",
   "mimetype": "text/x-python",
   "name": "python",
   "nbconvert_exporter": "python",
   "pygments_lexer": "ipython3",
   "version": "3.8.8"
  }
 },
 "nbformat": 4,
 "nbformat_minor": 4
}
